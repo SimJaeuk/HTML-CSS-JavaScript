{
  "nbformat": 4,
  "nbformat_minor": 0,
  "metadata": {
    "colab": {
      "name": "FridayQuiz27~.ipynb",
      "provenance": [],
      "collapsed_sections": [],
      "authorship_tag": "ABX9TyNqlYRHa9xu0BusA5LAHT1+",
      "include_colab_link": true
    },
    "kernelspec": {
      "name": "python3",
      "display_name": "Python 3"
    }
  },
  "cells": [
    {
      "cell_type": "markdown",
      "metadata": {
        "id": "view-in-github",
        "colab_type": "text"
      },
      "source": [
        "<a href=\"https://colab.research.google.com/github/jaehook293/html/blob/main/FridayQuiz27~.ipynb\" target=\"_parent\"><img src=\"https://colab.research.google.com/assets/colab-badge.svg\" alt=\"Open In Colab\"/></a>"
      ]
    },
    {
      "cell_type": "code",
      "metadata": {
        "colab": {
          "base_uri": "https://localhost:8080/"
        },
        "id": "IFBMnz-vxguN",
        "outputId": "ead8a273-14d5-4492-cf9e-cf7ed4ee421b"
      },
      "source": [
        "# 문제 27 딕셔너리 만들기\r\n",
        "# 데이터 입력 받아서 처리\r\n",
        "\r\n",
        "a=input().split()\r\n",
        "\r\n",
        "print(a)"
      ],
      "execution_count": null,
      "outputs": [
        {
          "output_type": "stream",
          "text": [
            "70 100\n",
            "['70', '100']\n"
          ],
          "name": "stdout"
        }
      ]
    },
    {
      "cell_type": "code",
      "metadata": {
        "colab": {
          "base_uri": "https://localhost:8080/"
        },
        "id": "CQsmD6pw02Z8",
        "outputId": "699aedfb-57d8-4268-aa64-115961ed54cc"
      },
      "source": [
        "# 숫자로 입력 받아서 처리\r\n",
        "a =  map(int,input().split())\r\n",
        "\r\n",
        "print(a)"
      ],
      "execution_count": null,
      "outputs": [
        {
          "output_type": "stream",
          "text": [
            "70 10\n",
            "<map object at 0x7fd5a909bf10>\n"
          ],
          "name": "stdout"
        }
      ]
    },
    {
      "cell_type": "code",
      "metadata": {
        "colab": {
          "base_uri": "https://localhost:8080/"
        },
        "id": "Z2p9G6Qb1RKU",
        "outputId": "d6beb18e-f0eb-4943-c49f-4518fa8d0124"
      },
      "source": [
        "#엮어주는거\r\n",
        "\r\n",
        "a = [1,2,3,4]\r\n",
        "b = [100,200,300,400]\r\n",
        "\r\n",
        "print(list(zip(a,b)))"
      ],
      "execution_count": null,
      "outputs": [
        {
          "output_type": "stream",
          "text": [
            "[(1, 100), (2, 200), (3, 300), (4, 400)]\n"
          ],
          "name": "stdout"
        }
      ]
    },
    {
      "cell_type": "code",
      "metadata": {
        "colab": {
          "base_uri": "https://localhost:8080/"
        },
        "id": "ejfWhioZ2WDV",
        "outputId": "d010c32c-6d2e-4dce-9fc0-97f59a6042ee"
      },
      "source": [
        "#27 답\r\n",
        "key = input().split(' ')\r\n",
        "value = map(int,input().split(' '))\r\n",
        "\r\n",
        "result = dict(zip(key,value))\r\n",
        "print(result)"
      ],
      "execution_count": null,
      "outputs": [
        {
          "output_type": "stream",
          "text": [
            "a b\n",
            "1 2\n",
            "{'a': 1, 'b': 2}\n"
          ],
          "name": "stdout"
        }
      ]
    },
    {
      "cell_type": "code",
      "metadata": {
        "colab": {
          "base_uri": "https://localhost:8080/"
        },
        "id": "wR0J4Q2n3ndS",
        "outputId": "d5a22db5-01f4-46c7-f4ef-ba64ef66cd0a"
      },
      "source": [
        "#강사님 답\r\n",
        "key = input().split()\r\n",
        "value = map(int, input().split())\r\n",
        "\r\n",
        "print(dict(zip(key,value)))"
      ],
      "execution_count": null,
      "outputs": [
        {
          "output_type": "stream",
          "text": [
            "Yujin Hyewon\n",
            "70 100\n",
            "{'Yujin': 70, 'Hyewon': 100}\n"
          ],
          "name": "stdout"
        }
      ]
    },
    {
      "cell_type": "code",
      "metadata": {
        "colab": {
          "base_uri": "https://localhost:8080/"
        },
        "id": "sBxdimfJ6ALp",
        "outputId": "61604c32-6c52-48a3-e09e-4113fe5e6d04"
      },
      "source": [
        "#문제 28 2-gram\r\n",
        "\r\n",
        "gram2 = input() #python 입력가정\r\n",
        "for i in range(len(gram2)-1): # 마지막 n 뒤에 올게 없기떄문에 -1 해주기\r\n",
        "\tprint(gram2[i]+gram2[i+1])"
      ],
      "execution_count": null,
      "outputs": [
        {
          "output_type": "stream",
          "text": [
            "python\n",
            "py\n",
            "yt\n",
            "th\n",
            "ho\n",
            "on\n"
          ],
          "name": "stdout"
        }
      ]
    },
    {
      "cell_type": "code",
      "metadata": {
        "colab": {
          "base_uri": "https://localhost:8080/",
          "height": 190
        },
        "id": "2eiPOnmW9ugT",
        "outputId": "44d8abb6-6c58-4fe1-d195-b592a20b7da0"
      },
      "source": [
        ""
      ],
      "execution_count": null,
      "outputs": [
        {
          "output_type": "error",
          "ename": "IndexError",
          "evalue": "ignored",
          "traceback": [
            "\u001b[0;31m---------------------------------------------------------------------------\u001b[0m",
            "\u001b[0;31mIndexError\u001b[0m                                Traceback (most recent call last)",
            "\u001b[0;32m<ipython-input-33-7583e8599145>\u001b[0m in \u001b[0;36m<module>\u001b[0;34m()\u001b[0m\n\u001b[1;32m      1\u001b[0m \u001b[0mlen\u001b[0m\u001b[0;34m(\u001b[0m\u001b[0mgram2\u001b[0m\u001b[0;34m)\u001b[0m\u001b[0;34m\u001b[0m\u001b[0;34m\u001b[0m\u001b[0m\n\u001b[0;32m----> 2\u001b[0;31m \u001b[0mprint\u001b[0m\u001b[0;34m(\u001b[0m\u001b[0mgram2\u001b[0m\u001b[0;34m[\u001b[0m\u001b[0;36m5\u001b[0m\u001b[0;34m]\u001b[0m\u001b[0;34m+\u001b[0m\u001b[0mgram2\u001b[0m\u001b[0;34m[\u001b[0m\u001b[0;36m5\u001b[0m\u001b[0;34m+\u001b[0m\u001b[0;36m1\u001b[0m\u001b[0;34m]\u001b[0m\u001b[0;34m)\u001b[0m\u001b[0;34m\u001b[0m\u001b[0;34m\u001b[0m\u001b[0m\n\u001b[0m",
            "\u001b[0;31mIndexError\u001b[0m: string index out of range"
          ]
        }
      ]
    },
    {
      "cell_type": "code",
      "metadata": {
        "id": "2tQtZvVwG2eM"
      },
      "source": [
        ""
      ],
      "execution_count": null,
      "outputs": []
    },
    {
      "cell_type": "code",
      "metadata": {
        "colab": {
          "base_uri": "https://localhost:8080/"
        },
        "id": "gZZTM-xW-1ue",
        "outputId": "86bb24cc-1d3d-4d98-dfe7-332581b009e6"
      },
      "source": [
        "#문제 29 대문자 YES 아니면 NO\r\n",
        "\r\n",
        "#isdigit 숫자인지 확인\r\n",
        "#isupper 대문자인지 확인\r\n",
        "#islower 소문자인지 확인\r\n",
        "#ord ascll 코드 값을 확인 65 A 90 Z\r\n",
        "#풀이 1 -> isupper를 이용\r\n",
        "a = input()\r\n",
        "\r\n",
        "if a.isupper():\r\n",
        "  print('YES')\r\n",
        "else:\r\n",
        "  print('NO')"
      ],
      "execution_count": null,
      "outputs": [
        {
          "output_type": "stream",
          "text": [
            "a\n",
            "NO\n"
          ],
          "name": "stdout"
        }
      ]
    },
    {
      "cell_type": "code",
      "metadata": {
        "colab": {
          "base_uri": "https://localhost:8080/"
        },
        "id": "NILtpH8ADI7G",
        "outputId": "3cdd6837-47db-4cc7-dcdf-8a6362b2bb5d"
      },
      "source": [
        "#풀이 2 -> ord를 이용\r\n",
        "\r\n",
        "txt = input()\r\n",
        "if ord(txt) > 65 and ord(txt) <= 90:\r\n",
        "  print('YES')\r\n",
        "else:\r\n",
        "  print('NO')"
      ],
      "execution_count": null,
      "outputs": [
        {
          "output_type": "stream",
          "text": [
            "B\n",
            "YES\n"
          ],
          "name": "stdout"
        }
      ]
    },
    {
      "cell_type": "code",
      "metadata": {
        "colab": {
          "base_uri": "https://localhost:8080/"
        },
        "id": "p9FhikyVDsSN",
        "outputId": "9877ee83-0a6d-460f-8073-27bfcf9447a3"
      },
      "source": [
        "#풀이 3 ->  chr 이용\r\n",
        "\r\n",
        "txt = input()\r\n",
        "\r\n",
        "if txt >= chr(65) and txt <= chr(90):\r\n",
        "  print(\"YES\")\r\n",
        "else:\r\n",
        "  print(\"NO\")"
      ],
      "execution_count": null,
      "outputs": [
        {
          "output_type": "stream",
          "text": [
            "B\n",
            "YES\n"
          ],
          "name": "stdout"
        }
      ]
    },
    {
      "cell_type": "code",
      "metadata": {
        "colab": {
          "base_uri": "https://localhost:8080/"
        },
        "id": "ptn_Gih1Gvp1",
        "outputId": "4e59801e-2977-4f63-b40b-8a6a0c073ca2"
      },
      "source": [
        "#문제 30 # 문자열 속 문자 찾기\r\n",
        "# index 찾는게 없을경우 에러출력\r\n",
        "# find 찾는게 없을경우 -1 출력\r\n",
        "# print(a.index('apple'))\r\n",
        "# print(a.find('apple'))\r\n",
        "#a = 'pineapple is yummy'\r\n",
        "#print(a.find('apple'))\r\n",
        "\r\n",
        "a = input()\r\n",
        "b = input()\r\n",
        "print(a.find(b))"
      ],
      "execution_count": null,
      "outputs": [
        {
          "output_type": "stream",
          "text": [
            "pineapple is yummy\n",
            "apple\n",
            "4\n"
          ],
          "name": "stdout"
        }
      ]
    },
    {
      "cell_type": "code",
      "metadata": {
        "id": "uwVqiSMkMdZm"
      },
      "source": [
        "#문제 31 시간복잡도표시 O(1) -> 한번에 떨어지는 함수"
      ],
      "execution_count": null,
      "outputs": []
    },
    {
      "cell_type": "code",
      "metadata": {
        "colab": {
          "base_uri": "https://localhost:8080/"
        },
        "id": "5gyfYlKfQM6F",
        "outputId": "c26f22a5-bb18-44f9-bb6c-e084789a76fc"
      },
      "source": [
        "#문제 32 문자열 갯수 출력 프로그램\r\n",
        "\r\n",
        "\r\n",
        "txt = input()\r\n",
        "b = list(txt.split())\r\n",
        "print(len(b))\r\n",
        "\r\n",
        "# +@\r\n",
        "#strip함수 띄어쓰기 날려버림 ex txt.strip()\r\n",
        "#lstrip, rstrip"
      ],
      "execution_count": null,
      "outputs": [
        {
          "output_type": "stream",
          "text": [
            "가나다 라마바사 아자차 카타파하\n",
            "4\n"
          ],
          "name": "stdout"
        }
      ]
    },
    {
      "cell_type": "code",
      "metadata": {
        "colab": {
          "base_uri": "https://localhost:8080/"
        },
        "id": "BcDhoiaxQlPM",
        "outputId": "5decd5fe-b4c6-427f-8ce4-5432266b1065"
      },
      "source": [
        "#문제 33\r\n",
        "#거꾸로 출력하기 -> 다른방법도 찾아보기\r\n",
        "\r\n",
        "a = input()\r\n",
        "print(''.join(reversed(a)))"
      ],
      "execution_count": null,
      "outputs": [
        {
          "output_type": "stream",
          "text": [
            "12345\n",
            "<reversed object at 0x7fd5a8fa7290>\n"
          ],
          "name": "stdout"
        }
      ]
    },
    {
      "cell_type": "code",
      "metadata": {
        "id": "0ZptOwX1VQv-"
      },
      "source": [
        "#문제34 sort 구현\r\n",
        "\r\n",
        "# sorted & sort"
      ],
      "execution_count": null,
      "outputs": []
    },
    {
      "cell_type": "code",
      "metadata": {
        "colab": {
          "base_uri": "https://localhost:8080/"
        },
        "id": "sfj33hHEebtu",
        "outputId": "5cbedbe4-7565-4942-b8c4-d584feba6577"
      },
      "source": [
        "list = [1,3,2]\r\n",
        "print(list.sort())"
      ],
      "execution_count": null,
      "outputs": [
        {
          "output_type": "stream",
          "text": [
            "None\n"
          ],
          "name": "stdout"
        }
      ]
    },
    {
      "cell_type": "code",
      "metadata": {
        "colab": {
          "base_uri": "https://localhost:8080/"
        },
        "id": "A7PevkSRel89",
        "outputId": "8f5a2c5c-fba4-486f-8980-3d7128c51212"
      },
      "source": [
        "print(list)"
      ],
      "execution_count": null,
      "outputs": [
        {
          "output_type": "stream",
          "text": [
            "[1, 2, 3]\n"
          ],
          "name": "stdout"
        }
      ]
    },
    {
      "cell_type": "code",
      "metadata": {
        "colab": {
          "base_uri": "https://localhost:8080/"
        },
        "id": "y_9baSlmcmlF",
        "outputId": "ad0adce4-0bb0-4f17-e071-6ebea8c9ecd9"
      },
      "source": [
        "list = [1,3,2]\r\n",
        "print(sorted(list))"
      ],
      "execution_count": null,
      "outputs": [
        {
          "output_type": "stream",
          "text": [
            "[1, 2, 3]\n"
          ],
          "name": "stdout"
        }
      ]
    },
    {
      "cell_type": "code",
      "metadata": {
        "colab": {
          "base_uri": "https://localhost:8080/"
        },
        "id": "3YHi1giXerDN",
        "outputId": "97e88237-f04e-47b7-d8a1-7eafe7874f84"
      },
      "source": [
        "print(list)"
      ],
      "execution_count": null,
      "outputs": [
        {
          "output_type": "stream",
          "text": [
            "[1, 3, 2]\n"
          ],
          "name": "stdout"
        }
      ]
    },
    {
      "cell_type": "code",
      "metadata": {
        "id": "0DbvnSX9et3F"
      },
      "source": [
        "# list.sort()를 사용하면 원본 리스트 자체의 순서를 변화 시킨다.\r\n",
        "# sorted(list)를 사용하면 정렬된 새로운 리스트를 반환 받는다.\r\n",
        "#list.sort()는 새로운 복사본을 만들지 않기 때문에\r\n",
        "#sorted(list)보다 빠르다."
      ],
      "execution_count": null,
      "outputs": []
    },
    {
      "cell_type": "code",
      "metadata": {
        "colab": {
          "base_uri": "https://localhost:8080/"
        },
        "id": "HlFDktx9hjo3",
        "outputId": "866ed63a-9e77-4772-b443-f46e364f822d"
      },
      "source": [
        "num1 = input()\r\n",
        "num2 = num1.strip().split()\r\n",
        "num3 = [int(i) for i in num2]\r\n",
        "\r\n",
        "if num3 != sorted(num3): #입력한 수와 비교를 위해 sorted 사용\r\n",
        "  print(\"NO\")\r\n",
        "else:\r\n",
        "  print(\"YES\")"
      ],
      "execution_count": null,
      "outputs": [
        {
          "output_type": "stream",
          "text": [
            "1 2 3 4 5\n",
            "YES\n"
          ],
          "name": "stdout"
        }
      ]
    },
    {
      "cell_type": "code",
      "metadata": {
        "colab": {
          "base_uri": "https://localhost:8080/"
        },
        "id": "efbBUm9mhwWd",
        "outputId": "6d9c70a2-4cc2-47ec-b5f5-0d7a6c0c2b80"
      },
      "source": [
        "#문제 36 구구단 출력하기\r\n",
        "\r\n",
        "g = int(input())\r\n",
        "\r\n",
        "for i in range(1,10):\r\n",
        "  print(g*i, end=' ')"
      ],
      "execution_count": null,
      "outputs": [
        {
          "output_type": "stream",
          "text": [
            "4\n",
            "4 8 12 16 20 24 28 32 36 "
          ],
          "name": "stdout"
        }
      ]
    },
    {
      "cell_type": "code",
      "metadata": {
        "id": "hNtulX-q7wwX"
      },
      "source": [
        "#문제 37 : count 사용하기\r\n",
        "#기본 문법 = 변수.count(찾는값)\r\n",
        "\r\n",
        "# a = 'ooyyy'\r\n",
        "# a.count('y')\r\n",
        "\r\n",
        "# b = 'ox o x oxoxoxox'\r\n",
        "# b.count('ox')\r\n",
        "\r\n",
        "# a = [1,1,1,2,3]\r\n",
        "# a.count(1)"
      ],
      "execution_count": null,
      "outputs": []
    },
    {
      "cell_type": "code",
      "metadata": {
        "colab": {
          "base_uri": "https://localhost:8080/"
        },
        "id": "VDvZtgtt8JC9",
        "outputId": "a92c21ac-bbad-4ac4-eb6a-f2ea898cc2fb"
      },
      "source": [
        "a = input().split()\r\n",
        "b = list(set(a)) # 중복 제거를 위해 세트화하여 별도의 리스트\r\n",
        "\r\n",
        "max = 0 #선별을 위한 임시변수\r\n",
        "\r\n",
        "for i in range(len(b)): # 0,1,2\r\n",
        "  if a.count(b[i]) > a.count(b[max]): \r\n",
        "    max = i\r\n",
        "\r\n",
        "    # 채연의 개수 2 > 채연의 개수 2\r\n",
        "    # 은비의 개수 4 > 채연의 개수 2     max = 1\r\n",
        "    # 원영의 개수 2 > 은비의 개수 4\r\n",
        "\r\n",
        "\r\n",
        "print(\"%s(이)가 총 %d표로 반장이 되었습니다.\" % (b[max], a.count(b[max])))"
      ],
      "execution_count": 8,
      "outputs": [
        {
          "output_type": "stream",
          "text": [
            "원영 원영 은비 은비 은비 은비 채연 채연\n",
            "은비(이)가 총 4표로 반장이 되었습니다.\n"
          ],
          "name": "stdout"
        }
      ]
    },
    {
      "cell_type": "code",
      "metadata": {
        "id": "2hNNfihx8Ja-"
      },
      "source": [
        ""
      ],
      "execution_count": 9,
      "outputs": []
    },
    {
      "cell_type": "code",
      "metadata": {
        "colab": {
          "base_uri": "https://localhost:8080/"
        },
        "id": "pfHKJksPAGRf",
        "outputId": "5ce40a2f-b745-4c3e-fad2-8969d8d71716"
      },
      "source": [
        "#문제 39\r\n",
        "# q를 e로 대체 -> 변수.replace('a','b')\r\n",
        "\r\n",
        "a = input()\r\n",
        "print(a.replace(\"q\",\"e\"))"
      ],
      "execution_count": 14,
      "outputs": [
        {
          "output_type": "stream",
          "text": [
            "qweqweqwe\n",
            "eweeweewe\n"
          ],
          "name": "stdout"
        }
      ]
    },
    {
      "cell_type": "code",
      "metadata": {
        "colab": {
          "base_uri": "https://localhost:8080/"
        },
        "id": "Ie3miHrsAGnP",
        "outputId": "eb8d5538-d2ab-4744-96bd-43aa082ac247"
      },
      "source": [
        "#문제 41                                                ***********************\r\n",
        "#숫자가 주어지면 소수인지 아닌지 판별하는 프로그램 작성 ***********************\r\n",
        "\r\n",
        "a = int(input(\"소수 여부 확인:\")) #숫자 입력받기\r\n",
        "b = 0 #변수 초기화\r\n",
        "\r\n",
        "for i in range(2,a): #2부터 a-1까지 반복문\r\n",
        "  if a%i==0:  #조건 입력받은 수를 그 수 앞의 모든 수로 나눈 나머지 값이 0이면\r\n",
        "    b=1  #b값은 1이된다.\r\n",
        "    \r\n",
        "if b ==0: #b값이 0이면\r\n",
        "      print(\"소수입니다.\") #소수\r\n",
        "else:\r\n",
        "      print(\"소수가 아닙니다.\") #아니면 소수가아님"
      ],
      "execution_count": 36,
      "outputs": [
        {
          "output_type": "stream",
          "text": [
            "소수 여부 확인:1\n",
            "소수입니다.\n"
          ],
          "name": "stdout"
        }
      ]
    },
    {
      "cell_type": "code",
      "metadata": {
        "colab": {
          "base_uri": "https://localhost:8080/"
        },
        "id": "T1yQdMTeEyYH",
        "outputId": "13c15d77-a583-416d-997b-ee70db67772c"
      },
      "source": [
        "#문제44: 각 자리수의 합\r\n",
        "#사용자가 입력한 양의 정수의 각 자리수의 합을 구하는 프로그램을 만드세요.\r\n",
        "\r\n",
        "i = input()      #입력받기\r\n",
        "sum = 0          #변수 초기화\r\n",
        "\r\n",
        "for i in str(i): #입력받은 문자를 숫자로 변환하며 대입\r\n",
        "  sum += int(i)  #합하기\r\n",
        "\r\n",
        "print(sum)       #합계 출력"
      ],
      "execution_count": 38,
      "outputs": [
        {
          "output_type": "stream",
          "text": [
            "12345\n",
            "15\n"
          ],
          "name": "stdout"
        }
      ]
    },
    {
      "cell_type": "code",
      "metadata": {
        "colab": {
          "base_uri": "https://localhost:8080/"
        },
        "id": "JoMTIC6fTLPz",
        "outputId": "2dec63a3-0fe0-43c4-da4f-381fec1e00ca"
      },
      "source": [
        "# 강사님 풀이\r\n",
        "# 방법 1\r\n",
        "# n = list(map(int,input())) #숫자로 입력받기\r\n",
        "# sum = 0\r\n",
        "# for i in n: # 반복문 : 입력 받은 숫자를 하나씩\r\n",
        "#   sum += i #누적합계 구하기\r\n",
        "\r\n",
        "# print(sum)#합계 출력\r\n",
        "\r\n",
        "# 방법 2\r\n",
        "# sum = 0\r\n",
        "# for i in input():\r\n",
        "#   sum += int(i)\r\n",
        "\r\n",
        "# print(sum)"
      ],
      "execution_count": 45,
      "outputs": [
        {
          "output_type": "stream",
          "text": [
            "1234\n",
            "10\n"
          ],
          "name": "stdout"
        }
      ]
    },
    {
      "cell_type": "code",
      "metadata": {
        "colab": {
          "base_uri": "https://localhost:8080/"
        },
        "id": "u5hqBzQrTqKu",
        "outputId": "0711ca8d-0105-4bab-c1af-fb8482e2cf0b"
      },
      "source": [
        "#문제 46 str 자료형의 응용\r\n",
        "\r\n",
        "a = int(input())\r\n",
        "\r\n",
        "sum = 0\r\n",
        "for i in list(range(a)):\r\n",
        "  for j in str(i):\r\n",
        "    sum += int(j)\r\n",
        "    \r\n",
        "print(sum)\r\n",
        "\r\n",
        "# 변형 : 임의의 수를 입력 받아서 계산하기로"
      ],
      "execution_count": 76,
      "outputs": [
        {
          "output_type": "stream",
          "text": [
            "21\n",
            "102\n"
          ],
          "name": "stdout"
        }
      ]
    },
    {
      "cell_type": "code",
      "metadata": {
        "id": "8zWC3BFzUxfv"
      },
      "source": [
        ""
      ],
      "execution_count": null,
      "outputs": []
    }
  ]
}